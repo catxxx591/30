{
 "cells": [
  {
   "cell_type": "code",
   "execution_count": 29,
   "metadata": {},
   "outputs": [],
   "source": [
    "import jieba.analyse\n",
    "import jieba"
   ]
  },
  {
   "cell_type": "code",
   "execution_count": 70,
   "metadata": {},
   "outputs": [
    {
     "name": "stdout",
     "output_type": "stream",
     "text": [
      "None\n"
     ]
    }
   ],
   "source": [
    "s = \"我出門去買早餐\"\n",
    "print(jieba.get_FREQ(s))"
   ]
  },
  {
   "cell_type": "code",
   "execution_count": 71,
   "metadata": {},
   "outputs": [
    {
     "name": "stdout",
     "output_type": "stream",
     "text": [
      "我/出門/去/買/早餐\n"
     ]
    }
   ],
   "source": [
    "print('/'.join(jieba.cut(s,HMM=True)))"
   ]
  },
  {
   "cell_type": "code",
   "execution_count": 72,
   "metadata": {},
   "outputs": [
    {
     "data": {
      "text/plain": [
       "[('出門', 5.97738375145), ('早餐', 4.29868637196)]"
      ]
     },
     "execution_count": 72,
     "metadata": {},
     "output_type": "execute_result"
    }
   ],
   "source": [
    "#s = \"我們中出了一個叛徒\"\n",
    "jieba.analyse.extract_tags(s, topK=3, withWeight=True, allowPOS=())"
   ]
  },
  {
   "cell_type": "code",
   "execution_count": 74,
   "metadata": {},
   "outputs": [
    {
     "name": "stdout",
     "output_type": "stream",
     "text": [
      "['出門', '早餐']\n",
      "出門 5.97738375145\n",
      "早餐 4.29868637196\n"
     ]
    }
   ],
   "source": [
    "s = \"我出門去買早餐\"\n",
    "print(jieba.analyse.extract_tags(s, topK=20, withWeight=False, allowPOS=()))\n",
    "for x, w in jieba.analyse.extract_tags(s, withWeight=True):\n",
    "    print('%s %s' % (x, w))"
   ]
  },
  {
   "cell_type": "code",
   "execution_count": null,
   "metadata": {},
   "outputs": [],
   "source": []
  },
  {
   "cell_type": "code",
   "execution_count": 75,
   "metadata": {},
   "outputs": [
    {
     "name": "stdout",
     "output_type": "stream",
     "text": [
      "['早餐', '出門']\n",
      "早餐 1.0\n",
      "出門 0.9961264494011037\n"
     ]
    }
   ],
   "source": [
    "print(jieba.analyse.textrank(s,  withWeight=False, allowPOS=('ns', 'n', 'vn', 'v')))\n",
    "for x, w in jieba.analyse.textrank(s, withWeight=True):\n",
    "    print('%s %s' % (x, w))"
   ]
  },
  {
   "cell_type": "code",
   "execution_count": 76,
   "metadata": {},
   "outputs": [
    {
     "name": "stdout",
     "output_type": "stream",
     "text": [
      "我 r\n",
      "出門 v\n",
      "去 v\n",
      "買 v\n",
      "早餐 n\n"
     ]
    }
   ],
   "source": [
    ">>> import jieba.posseg as pseg\n",
    ">>> words = pseg.cut(s)\n",
    ">>> for word, flag in words:\n",
    "...    print('%s %s' % (word, flag))"
   ]
  },
  {
   "cell_type": "code",
   "execution_count": 104,
   "metadata": {},
   "outputs": [
    {
     "name": "stdout",
     "output_type": "stream",
     "text": [
      "word 他\t\t start: 0 \t\t end:1\n",
      "word 在\t\t start: 1 \t\t end:2\n",
      "word 游泳池\t\t start: 2 \t\t end:5\n",
      "word 唱國歌\t\t start: 5 \t\t end:8\n"
     ]
    }
   ],
   "source": [
    "\n",
    "result = jieba.tokenize(u'他在游泳池唱國歌')\n",
    "for tk in result:\n",
    "    print(\"word %s\\t\\t start: %d \\t\\t end:%d\" % (tk[0],tk[1],tk[2]))\n",
    "    \n",
    "\n"
   ]
  },
  {
   "cell_type": "code",
   "execution_count": 106,
   "metadata": {},
   "outputs": [
    {
     "name": "stdout",
     "output_type": "stream",
     "text": [
      "word 他\t\t start: 0 \t\t end:1\n",
      "word 在\t\t start: 1 \t\t end:2\n",
      "word 游泳\t\t start: 2 \t\t end:4\n",
      "word 泳池\t\t start: 3 \t\t end:5\n",
      "word 游泳池\t\t start: 2 \t\t end:5\n",
      "word 唱國歌\t\t start: 5 \t\t end:8\n"
     ]
    }
   ],
   "source": [
    "result = jieba.tokenize(u'他在游泳池唱國歌',mode='search')\n",
    "for tk in result:\n",
    "    print(\"word %s\\t\\t start: %d \\t\\t end:%d\" % (tk[0],tk[1],tk[2]))"
   ]
  }
 ],
 "metadata": {
  "kernelspec": {
   "display_name": "Python 3",
   "language": "python",
   "name": "python3"
  },
  "language_info": {
   "codemirror_mode": {
    "name": "ipython",
    "version": 3
   },
   "file_extension": ".py",
   "mimetype": "text/x-python",
   "name": "python",
   "nbconvert_exporter": "python",
   "pygments_lexer": "ipython3",
   "version": "3.6.5"
  }
 },
 "nbformat": 4,
 "nbformat_minor": 2
}
