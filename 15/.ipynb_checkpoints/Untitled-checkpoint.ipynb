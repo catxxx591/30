{
 "cells": [
  {
   "cell_type": "code",
   "execution_count": 34,
   "metadata": {},
   "outputs": [],
   "source": [
    "import nltk\n",
    "import re"
   ]
  },
  {
   "cell_type": "code",
   "execution_count": 35,
   "metadata": {},
   "outputs": [],
   "source": [
    ">>> from nltk.corpus import movie_reviews\n",
    ">>> import random\n",
    ">>> documents = [(list(movie_reviews.words(fileid)), category)\n",
    "...              for category in movie_reviews.categories()\n",
    "...              for fileid in movie_reviews.fileids(category )]\n",
    ">>> random.shuffle(documents)"
   ]
  },
  {
   "cell_type": "code",
   "execution_count": 45,
   "metadata": {},
   "outputs": [],
   "source": [
    "all_words = nltk.FreqDist(w.lower() for w in movie_reviews.words())\n",
    "word_features = list(all_words)[:2000] \n",
    "\n",
    "def document_features (document): \n",
    "    document_words = set(document)\n",
    "    features = {}\n",
    "    for word in word_features:\n",
    "        features[ 'contains({})' .format(word)] = (word in document_words)\n",
    "    return features"
   ]
  },
  {
   "cell_type": "code",
   "execution_count": 49,
   "metadata": {},
   "outputs": [
    {
     "data": {
      "text/plain": [
       "0.7966666666666666"
      ]
     },
     "execution_count": 49,
     "metadata": {},
     "output_type": "execute_result"
    }
   ],
   "source": [
    "featuresets = [(document_features(d), c) for (d,c) in documents]\n",
    "train_set, test_set = featuresets[:1400], featuresets[1400:]\n",
    "classifier = nltk.NaiveBayesClassifier.train(train_set)\n",
    "nltk.classify.accuracy(classifier, test_set)"
   ]
  },
  {
   "cell_type": "code",
   "execution_count": 47,
   "metadata": {},
   "outputs": [
    {
     "data": {
      "text/plain": [
       "2000"
      ]
     },
     "execution_count": 47,
     "metadata": {},
     "output_type": "execute_result"
    }
   ],
   "source": [
    "len(featuresets)"
   ]
  },
  {
   "cell_type": "code",
   "execution_count": 39,
   "metadata": {},
   "outputs": [
    {
     "data": {
      "text/plain": [
       "0.5"
      ]
     },
     "execution_count": 39,
     "metadata": {},
     "output_type": "execute_result"
    }
   ],
   "source": [
    "[f[1] for f in featuresets].count('neg')/len(featuresets)"
   ]
  },
  {
   "cell_type": "code",
   "execution_count": 40,
   "metadata": {},
   "outputs": [
    {
     "data": {
      "text/plain": [
       "['unimaginative',\n",
       " 'schumacher',\n",
       " 'turkey',\n",
       " 'atrocious',\n",
       " 'suvari',\n",
       " 'mena',\n",
       " 'shoddy',\n",
       " 'jumbled',\n",
       " 'surveillance',\n",
       " 'canyon',\n",
       " 'underwood',\n",
       " 'singers',\n",
       " 'unravel',\n",
       " 'uninspired',\n",
       " 'wasted',\n",
       " 'justin',\n",
       " 'poorly',\n",
       " 'awful',\n",
       " 'waste',\n",
       " 'bronson',\n",
       " 'welles',\n",
       " 'fluffy',\n",
       " 'ridiculous',\n",
       " 'groan',\n",
       " 'sexist',\n",
       " 'ugh',\n",
       " 'everyday',\n",
       " 'kudos',\n",
       " 'savages',\n",
       " 'unimpressive']"
      ]
     },
     "execution_count": 40,
     "metadata": {},
     "output_type": "execute_result"
    }
   ],
   "source": [
    "[re.search(r'\\(\\w+',w[0]).group()[1:] \n",
    " for w in classifier.most_informative_features(30)]"
   ]
  },
  {
   "cell_type": "code",
   "execution_count": 22,
   "metadata": {},
   "outputs": [
    {
     "name": "stdout",
     "output_type": "stream",
     "text": [
      "Most Informative Features\n",
      " contains(unimaginative) = True              neg : pos    =      7.7 : 1.0\n",
      "    contains(schumacher) = True              neg : pos    =      7.5 : 1.0\n",
      "        contains(suvari) = True              neg : pos    =      7.1 : 1.0\n",
      "          contains(mena) = True              neg : pos    =      7.1 : 1.0\n",
      "        contains(shoddy) = True              neg : pos    =      7.1 : 1.0\n",
      "     contains(atrocious) = True              neg : pos    =      6.7 : 1.0\n",
      "        contains(turkey) = True              neg : pos    =      6.6 : 1.0\n",
      "        contains(wasted) = True              neg : pos    =      5.9 : 1.0\n",
      "  contains(surveillance) = True              neg : pos    =      5.7 : 1.0\n",
      "        contains(canyon) = True              neg : pos    =      5.7 : 1.0\n",
      "       contains(unravel) = True              pos : neg    =      5.6 : 1.0\n",
      "           contains(ugh) = True              neg : pos    =      5.5 : 1.0\n",
      "        contains(justin) = True              neg : pos    =      5.5 : 1.0\n",
      "         contains(bland) = True              neg : pos    =      5.3 : 1.0\n",
      "         contains(waste) = True              neg : pos    =      5.2 : 1.0\n",
      "          contains(oops) = True              neg : pos    =      5.1 : 1.0\n",
      "         contains(awful) = True              neg : pos    =      5.1 : 1.0\n",
      "       contains(bronson) = True              neg : pos    =      5.1 : 1.0\n",
      "     contains(underwood) = True              neg : pos    =      5.1 : 1.0\n",
      "       contains(miscast) = True              neg : pos    =      4.8 : 1.0\n",
      "    contains(ridiculous) = True              neg : pos    =      4.8 : 1.0\n",
      "        contains(poorly) = True              neg : pos    =      4.7 : 1.0\n",
      "    contains(uninspired) = True              neg : pos    =      4.6 : 1.0\n",
      "     contains(painfully) = True              neg : pos    =      4.6 : 1.0\n",
      "      contains(explores) = True              pos : neg    =      4.5 : 1.0\n",
      "          contains(dull) = True              neg : pos    =      4.5 : 1.0\n",
      "      contains(everyday) = True              pos : neg    =      4.4 : 1.0\n",
      "         contains(kudos) = True              pos : neg    =      4.4 : 1.0\n",
      "       contains(savages) = True              neg : pos    =      4.4 : 1.0\n",
      "  contains(unimpressive) = True              neg : pos    =      4.4 : 1.0\n",
      "       contains(runtime) = True              neg : pos    =      4.4 : 1.0\n",
      "      contains(banality) = True              neg : pos    =      4.4 : 1.0\n",
      "           contains(h20) = True              neg : pos    =      4.4 : 1.0\n",
      "     contains(anastasia) = True              pos : neg    =      4.3 : 1.0\n",
      "        contains(welles) = True              neg : pos    =      4.2 : 1.0\n",
      "       contains(martian) = True              neg : pos    =      4.2 : 1.0\n",
      "     contains(stretched) = True              neg : pos    =      4.2 : 1.0\n",
      "        contains(stupid) = True              neg : pos    =      4.0 : 1.0\n",
      "         contains(chick) = True              neg : pos    =      4.0 : 1.0\n",
      "        contains(inject) = True              neg : pos    =      3.9 : 1.0\n",
      "         contains(groan) = True              neg : pos    =      3.8 : 1.0\n",
      "       contains(jumbled) = True              neg : pos    =      3.8 : 1.0\n",
      "       contains(unfunny) = True              neg : pos    =      3.7 : 1.0\n",
      "      contains(reformed) = True              neg : pos    =      3.7 : 1.0\n",
      "          contains(lena) = True              neg : pos    =      3.7 : 1.0\n",
      "        contains(origin) = True              neg : pos    =      3.7 : 1.0\n",
      "     contains(entendres) = True              neg : pos    =      3.7 : 1.0\n",
      "        contains(brooke) = True              neg : pos    =      3.7 : 1.0\n",
      "          contains(mess) = True              neg : pos    =      3.7 : 1.0\n",
      "     contains(memorable) = True              pos : neg    =      3.6 : 1.0\n",
      "        contains(shrewd) = True              pos : neg    =      3.6 : 1.0\n",
      "          contains(skip) = True              neg : pos    =      3.6 : 1.0\n",
      "        contains(boring) = True              neg : pos    =      3.5 : 1.0\n",
      "         contains(snake) = True              neg : pos    =      3.4 : 1.0\n",
      "        contains(sexist) = True              neg : pos    =      3.4 : 1.0\n",
      "        contains(sordid) = True              neg : pos    =      3.4 : 1.0\n",
      "         contains(moody) = True              pos : neg    =      3.4 : 1.0\n",
      "   contains(potentially) = True              neg : pos    =      3.4 : 1.0\n",
      "     contains(ambitious) = True              pos : neg    =      3.4 : 1.0\n",
      "      contains(illusion) = True              neg : pos    =      3.3 : 1.0\n",
      "     contains(essential) = True              pos : neg    =      3.3 : 1.0\n",
      "       contains(pivotal) = True              pos : neg    =      3.3 : 1.0\n",
      "      contains(terrible) = True              neg : pos    =      3.3 : 1.0\n",
      "      contains(thrilled) = True              pos : neg    =      3.3 : 1.0\n",
      "       contains(stellan) = True              pos : neg    =      3.3 : 1.0\n",
      "      contains(recycled) = True              neg : pos    =      3.2 : 1.0\n",
      "    contains(derivative) = True              neg : pos    =      3.2 : 1.0\n",
      "     contains(parallels) = True              pos : neg    =      3.2 : 1.0\n",
      " contains(understanding) = True              pos : neg    =      3.1 : 1.0\n",
      "       contains(winding) = True              neg : pos    =      3.0 : 1.0\n",
      "     contains(pregnancy) = True              neg : pos    =      3.0 : 1.0\n",
      "       contains(rotting) = True              neg : pos    =      3.0 : 1.0\n",
      "         contains(clich) = True              neg : pos    =      3.0 : 1.0\n",
      "          contains(diva) = True              neg : pos    =      3.0 : 1.0\n",
      "      contains(snippets) = True              neg : pos    =      3.0 : 1.0\n",
      "        contains(yuppie) = True              neg : pos    =      3.0 : 1.0\n",
      "    contains(assignment) = True              neg : pos    =      3.0 : 1.0\n",
      "        contains(finger) = True              neg : pos    =      3.0 : 1.0\n",
      "         contains(tanks) = True              neg : pos    =      3.0 : 1.0\n",
      "          contains(dork) = True              neg : pos    =      3.0 : 1.0\n",
      "       contains(chopped) = True              neg : pos    =      3.0 : 1.0\n",
      "      contains(depraved) = True              neg : pos    =      3.0 : 1.0\n",
      "          contains(olds) = True              neg : pos    =      3.0 : 1.0\n",
      "   contains(marketplace) = True              neg : pos    =      3.0 : 1.0\n",
      "        contains(enters) = True              pos : neg    =      3.0 : 1.0\n",
      "        contains(fluffy) = True              pos : neg    =      3.0 : 1.0\n",
      "      contains(carriage) = True              pos : neg    =      3.0 : 1.0\n",
      "       contains(desires) = True              pos : neg    =      3.0 : 1.0\n",
      "      contains(fourteen) = True              pos : neg    =      3.0 : 1.0\n",
      "      contains(hercules) = True              pos : neg    =      3.0 : 1.0\n",
      "       contains(kingdom) = True              pos : neg    =      3.0 : 1.0\n",
      "         contains(tones) = True              pos : neg    =      3.0 : 1.0\n",
      "     contains(paralyzed) = True              pos : neg    =      3.0 : 1.0\n",
      "      contains(terribly) = True              neg : pos    =      3.0 : 1.0\n",
      "          contains(hide) = True              neg : pos    =      2.9 : 1.0\n",
      "    contains(undercover) = True              neg : pos    =      2.9 : 1.0\n",
      "        contains(steals) = True              pos : neg    =      2.8 : 1.0\n",
      "  contains(conventional) = True              pos : neg    =      2.8 : 1.0\n",
      "      contains(neurotic) = True              pos : neg    =      2.8 : 1.0\n",
      "        contains(flawed) = True              pos : neg    =      2.8 : 1.0\n"
     ]
    }
   ],
   "source": [
    "classifier.show_most_informative_features(100)"
   ]
  },
  {
   "cell_type": "code",
   "execution_count": null,
   "metadata": {},
   "outputs": [],
   "source": [
    "#選擇一個本章所描述的分類任務，如名字性別檢測、文檔分類、詞性標註或對話行為分類。使用相同的訓練和測試數據，相同的特徵提取器，建立該任務的三個分類器：：決策樹、樸素貝葉斯分類器和最大熵分類器。比較你所選任務上這三個分類器的準確性。你如何看待如果你使用了不同的特徵提取器，你的結果可能會不同？"
   ]
  },
  {
   "cell_type": "code",
   "execution_count": 23,
   "metadata": {},
   "outputs": [],
   "source": [
    "from nltk.corpus import brown\n",
    "suffix_fdist = nltk.FreqDist()\n",
    "for word in brown.words():\n",
    "    word = word.lower()\n",
    "    suffix_fdist[word[-1 :]] += 1\n",
    "    suffix_fdist[word[-2:]] += 1\n",
    "    suffix_fdist[word[-3:]] += 1"
   ]
  },
  {
   "cell_type": "code",
   "execution_count": 24,
   "metadata": {},
   "outputs": [],
   "source": [
    "def pos_features (sentence, i, history): \n",
    "    features = { \"suffix(1)\" : sentence[i][-1:],\n",
    "                  \"suffix(2)\" : sentence[i][-2:],\n",
    "                  \"suffix( 3)\" : sentence[i][-3:]}\n",
    "    if i == 0:\n",
    "        features[ \"prev-word\" ] = \"<START>\" \n",
    "#        features[ \"prev-tag\" ] = \"<START>\" \n",
    "    else :\n",
    "        features[ \"prev-word\" ] = sentence[i-1]\n",
    "        features[ \"prev-tag\" ] = history#[i-1]\n",
    "    return features"
   ]
  },
  {
   "cell_type": "code",
   "execution_count": 26,
   "metadata": {},
   "outputs": [],
   "source": [
    "tagged_sents = brown.tagged_sents(categories= 'news' )\n",
    "featuresets = []\n",
    "for s in tagged_sents:\n",
    "    sent = []\n",
    "    history = '<start>'\n",
    "    for w in s:\n",
    "        sent.append(w[0])\n",
    "        featuresets.append((pos_features(sent,s.index(w),history),w[1]))\n",
    "        history=w[1]"
   ]
  },
  {
   "cell_type": "code",
   "execution_count": 28,
   "metadata": {},
   "outputs": [],
   "source": [
    "def test_features(txt=str,i=int):\n",
    "    txt = re.findall(r\"[\\w('’)\\w]+|\\S\",txt)\n",
    "#    pos_features(txt,i)\n",
    "    return classifier.classify(pos_features( txt, i))"
   ]
  },
  {
   "cell_type": "code",
   "execution_count": 29,
   "metadata": {},
   "outputs": [
    {
     "data": {
      "text/plain": [
       "0.7695673794132273"
      ]
     },
     "execution_count": 29,
     "metadata": {},
     "output_type": "execute_result"
    }
   ],
   "source": [
    ">>> size = int(len(featuresets) * 0.1)\n",
    ">>> train_set, test_set = featuresets[size:], featuresets[:size]"
   ]
  },
  {
   "cell_type": "code",
   "execution_count": 30,
   "metadata": {},
   "outputs": [
    {
     "data": {
      "text/plain": [
       "0.7695673794132273"
      ]
     },
     "execution_count": 30,
     "metadata": {},
     "output_type": "execute_result"
    }
   ],
   "source": [
    ">>> classifier = nltk.DecisionTreeClassifier.train(train_set)\n",
    ">>> nltk.classify.accuracy(classifier, test_set)"
   ]
  },
  {
   "cell_type": "code",
   "execution_count": 31,
   "metadata": {},
   "outputs": [
    {
     "data": {
      "text/plain": [
       "0.8166086524117354"
      ]
     },
     "execution_count": 31,
     "metadata": {},
     "output_type": "execute_result"
    }
   ],
   "source": [
    "classifier = nltk.NaiveBayesClassifier.train(train_set)\n",
    "nltk.classify.accuracy(classifier, test_set)"
   ]
  },
  {
   "cell_type": "code",
   "execution_count": 32,
   "metadata": {},
   "outputs": [
    {
     "name": "stdout",
     "output_type": "stream",
     "text": [
      "  ==> Training (100 iterations)\n",
      "\n",
      "      Iteration    Log Likelihood    Accuracy\n",
      "      ---------------------------------------\n",
      "             1          -5.36129        0.007\n",
      "      Training stopped: keyboard interrupt\n",
      "         Final          -1.26210        0.829\n"
     ]
    },
    {
     "data": {
      "text/plain": [
       "0.7894579811039284"
      ]
     },
     "execution_count": 32,
     "metadata": {},
     "output_type": "execute_result"
    }
   ],
   "source": [
    "classifier = nltk.MaxentClassifier.train(train_set)\n",
    "nltk.classify.accuracy(classifier, test_set)"
   ]
  }
 ],
 "metadata": {
  "kernelspec": {
   "display_name": "Python 3",
   "language": "python",
   "name": "python3"
  },
  "language_info": {
   "codemirror_mode": {
    "name": "ipython",
    "version": 3
   },
   "file_extension": ".py",
   "mimetype": "text/x-python",
   "name": "python",
   "nbconvert_exporter": "python",
   "pygments_lexer": "ipython3",
   "version": "3.6.6"
  }
 },
 "nbformat": 4,
 "nbformat_minor": 2
}
