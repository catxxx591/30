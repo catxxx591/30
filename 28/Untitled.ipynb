{
 "cells": [
  {
   "cell_type": "code",
   "execution_count": 2,
   "metadata": {},
   "outputs": [],
   "source": [
    "import nltk\n",
    "import jieba"
   ]
  },
  {
   "cell_type": "code",
   "execution_count": 39,
   "metadata": {},
   "outputs": [],
   "source": [
    "nltk.corpus.sinica_treebank.parsed_sents()[8].draw()"
   ]
  },
  {
   "cell_type": "code",
   "execution_count": 40,
   "metadata": {},
   "outputs": [],
   "source": [
    "tree = nltk.corpus.sinica_treebank.tagged_words()"
   ]
  },
  {
   "cell_type": "code",
   "execution_count": 41,
   "metadata": {},
   "outputs": [
    {
     "data": {
      "text/plain": [
       "[('一', 'Neu'), ('友情', 'Nad'), ('嘉珍', 'Nba'), ...]"
      ]
     },
     "execution_count": 41,
     "metadata": {},
     "output_type": "execute_result"
    }
   ],
   "source": [
    "tree[0:222]"
   ]
  },
  {
   "cell_type": "code",
   "execution_count": 27,
   "metadata": {},
   "outputs": [
    {
     "data": {
      "text/plain": [
       "[[('一', 'Neu')],\n",
       " [('友情', 'Nad')],\n",
       " [('嘉珍', 'Nba'),\n",
       "  ('和', 'Caa'),\n",
       "  ('我', 'Nhaa'),\n",
       "  ('住在', 'VC1'),\n",
       "  ('同一條', 'DM'),\n",
       "  ('巷子', 'Nab')],\n",
       " [('我們', 'Nhaa'), ('是', 'V_11'), ('鄰居', 'Nab')],\n",
       " [('也', 'Dbb'), ('是', 'V_11'), ('同班', 'Nv3'), ('同學', 'Nab')],\n",
       " [('我們', 'Nhaa'), ('常常', 'Dd'), ('一起', 'Dh'), ('上學', 'VA4')],\n",
       " [('一起', 'Dh'), ('回家', 'VA13')],\n",
       " [('有一天', 'DM')],\n",
       " [('上學', 'VA4'), ('時', 'Ng')],\n",
       " [('我', 'Nhaa'), ('到', 'P61'), ('她', 'Nhaa'), ('家', 'Ncb'), ('等候', 'VK2')]]"
      ]
     },
     "execution_count": 27,
     "metadata": {},
     "output_type": "execute_result"
    }
   ],
   "source": [
    ">>> from nltk.corpus import sinica_treebank\n",
    ">>> sinica_treebank.tagged_sents()[0:10]"
   ]
  },
  {
   "cell_type": "code",
   "execution_count": 23,
   "metadata": {},
   "outputs": [
    {
     "data": {
      "text/plain": [
       "<Text: 一 友情 嘉珍 和 我 住在 同一條 巷子...>"
      ]
     },
     "execution_count": 23,
     "metadata": {},
     "output_type": "execute_result"
    }
   ],
   "source": [
    "nltk.Text(sinica_treebank.words())"
   ]
  },
  {
   "cell_type": "code",
   "execution_count": 32,
   "metadata": {},
   "outputs": [
    {
     "name": "stdout",
     "output_type": "stream",
     "text": [
      "讓 , VL4\n",
      "人工 , Nad\n",
      "智能 , Nab\n",
      "能夠 , Dbab\n",
      "更 , Dfa\n",
      "有效地 , Nab\n",
      "甄別 , Nab\n",
      "虛假 , Nab\n",
      "和 , Caa\n",
      "低俗 , Nab\n",
      "內容 , Nad\n",
      "並 , Dbb\n",
      "控制 , VC2\n",
      "其 , Nep\n",
      "傳播 , Nv1\n",
      "是 , V_11\n",
      "當前 , Nddc\n",
      "業界 , Ncb\n",
      "和 , Caa\n",
      "學界 , Nab\n",
      "要 , Dbab\n",
      "重點 , Nac\n",
      "研究 , Nad\n",
      "的 , DE\n",
      "問題 , Nac\n",
      "0.7505389132535494\n"
     ]
    }
   ],
   "source": [
    "\n",
    "# encoding=utf-8\n",
    " \n",
    "import nltk\n",
    "from nltk.corpus import sinica_treebank\t# 带标注的中文语料库\n",
    " \n",
    "# 用print输出本地字符格式\n",
    "def dump_result(result):\n",
    "    for item in result:\n",
    "        print (item[0],\",\",item[1])#,\n",
    "    #print\n",
    "    \n",
    "# 等标注的词，以空格分词（分词问题不在此讨论）\n",
    "raw = '讓 人工 智能 能夠 更 有效地 甄別 虛假 和 低俗 內容 並 控制 其 傳播 是 當前 業界 和 學界 要 重點 研究 的 問題'#.decode('utf-8')\n",
    "tokens = nltk.word_tokenize(raw)\n",
    " \n",
    "sinica_treebank_tagged_sents = sinica_treebank.tagged_sents()\t# 以句为单位标\n",
    "size = int(len(sinica_treebank_tagged_sents) * 0.9)\n",
    "train_sents = sinica_treebank_tagged_sents[:size]\t# 90% 数据作为训练集\n",
    "test_sents = sinica_treebank_tagged_sents[size:]\t# 10% 数据作为测试集\n",
    " \n",
    "t0 = nltk.DefaultTagger('Nab')\t# 词性的默认值为名词\n",
    "t1 = nltk.UnigramTagger(train_sents, backoff=t0)\t# 一元标注\n",
    "t2 = nltk.BigramTagger(train_sents, backoff=t1)\t# 多元（二元）标注\n",
    " \n",
    "dump_result(t2.tag(tokens))\n",
    "print (t2.evaluate(test_sents))\t# 根据带标注的文本，评估标注器的正确率\n",
    "#--------------------- \n",
    "#作者：xieyan0811 \n",
    "#来源：CSDN \n",
    "#原文：https://blog.csdn.net/xieyan0811/article/details/65626370 \n",
    "#版权声明：本文为博主原创文章，转载请附上博文链接！"
   ]
  }
 ],
 "metadata": {
  "kernelspec": {
   "display_name": "Python 3",
   "language": "python",
   "name": "python3"
  },
  "language_info": {
   "codemirror_mode": {
    "name": "ipython",
    "version": 3
   },
   "file_extension": ".py",
   "mimetype": "text/x-python",
   "name": "python",
   "nbconvert_exporter": "python",
   "pygments_lexer": "ipython3",
   "version": "3.6.6"
  }
 },
 "nbformat": 4,
 "nbformat_minor": 2
}
