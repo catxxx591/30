{
 "cells": [
  {
   "cell_type": "code",
   "execution_count": 5,
   "metadata": {},
   "outputs": [],
   "source": [
    "import nltk"
   ]
  },
  {
   "cell_type": "code",
   "execution_count": 1,
   "metadata": {},
   "outputs": [],
   "source": [
    ">>> from nltk.corpus import names\n",
    ">>> labeled_names = ([(name, 'male' ) for name in names.words( 'male.txt' )] +\n",
    "... [(name, 'female' ) for name in names.words( 'female.txt' )])\n",
    ">>> import random\n",
    ">>> random.shuffle(labeled_names)"
   ]
  },
  {
   "cell_type": "code",
   "execution_count": 3,
   "metadata": {},
   "outputs": [
    {
     "data": {
      "text/plain": [
       "{'last_letter': 'k'}"
      ]
     },
     "execution_count": 3,
     "metadata": {},
     "output_type": "execute_result"
    }
   ],
   "source": [
    ">>> def  gender_features (word):\n",
    "...     return { 'last_letter' : word[-1]}\n",
    ">>> gender_features( 'Shrek' )"
   ]
  },
  {
   "cell_type": "code",
   "execution_count": 8,
   "metadata": {},
   "outputs": [],
   "source": [
    ">>> featuresets = [(gender_features(n), gender) for (n, gender) in labeled_names]\n",
    ">>> train_set, test_set = featuresets[500:], featuresets[:500]\n",
    ">>> classifier = nltk.NaiveBayesClassifier.train(train_set)"
   ]
  },
  {
   "cell_type": "code",
   "execution_count": 9,
   "metadata": {},
   "outputs": [
    {
     "name": "stdout",
     "output_type": "stream",
     "text": [
      "male\n",
      "female\n"
     ]
    }
   ],
   "source": [
    ">>> print(classifier.classify(gender_features( 'Neo' )))\n",
    "\n",
    ">>> print(classifier.classify(gender_features( 'Trinity' )))\n"
   ]
  },
  {
   "cell_type": "code",
   "execution_count": 14,
   "metadata": {},
   "outputs": [
    {
     "name": "stdout",
     "output_type": "stream",
     "text": [
      "0.794\n"
     ]
    }
   ],
   "source": [
    ">>> print (nltk.classify.accuracy(classifier, test_set))"
   ]
  },
  {
   "cell_type": "code",
   "execution_count": 11,
   "metadata": {},
   "outputs": [],
   "source": [
    "def  gender_features2 (name): \n",
    "    features = {} \n",
    "    features[ \"first_letter\" ] = name[0].lower() \n",
    "    features[ \"last_letter\" ] = name[-1].lower()\n",
    "    for letter in  'abcdefghijklmnopqrstuvwxyz' : \n",
    "        features[ \"count({})\" .format(letter)] = name.lower().count(letter) \n",
    "        features[ \"has({})\" .format(letter)] = (letter in name.lower()) \n",
    "    return features"
   ]
  },
  {
   "cell_type": "code",
   "execution_count": 12,
   "metadata": {},
   "outputs": [
    {
     "data": {
      "text/plain": [
       "{'first_letter': 'y',\n",
       " 'last_letter': 'e',\n",
       " 'count(a)': 0,\n",
       " 'has(a)': False,\n",
       " 'count(b)': 0,\n",
       " 'has(b)': False,\n",
       " 'count(c)': 0,\n",
       " 'has(c)': False,\n",
       " 'count(d)': 0,\n",
       " 'has(d)': False,\n",
       " 'count(e)': 2,\n",
       " 'has(e)': True,\n",
       " 'count(f)': 0,\n",
       " 'has(f)': False,\n",
       " 'count(g)': 0,\n",
       " 'has(g)': False,\n",
       " 'count(h)': 0,\n",
       " 'has(h)': False,\n",
       " 'count(i)': 0,\n",
       " 'has(i)': False,\n",
       " 'count(j)': 0,\n",
       " 'has(j)': False,\n",
       " 'count(k)': 0,\n",
       " 'has(k)': False,\n",
       " 'count(l)': 0,\n",
       " 'has(l)': False,\n",
       " 'count(m)': 0,\n",
       " 'has(m)': False,\n",
       " 'count(n)': 0,\n",
       " 'has(n)': False,\n",
       " 'count(o)': 0,\n",
       " 'has(o)': False,\n",
       " 'count(p)': 0,\n",
       " 'has(p)': False,\n",
       " 'count(q)': 0,\n",
       " 'has(q)': False,\n",
       " 'count(r)': 0,\n",
       " 'has(r)': False,\n",
       " 'count(s)': 0,\n",
       " 'has(s)': False,\n",
       " 'count(t)': 0,\n",
       " 'has(t)': False,\n",
       " 'count(u)': 0,\n",
       " 'has(u)': False,\n",
       " 'count(v)': 0,\n",
       " 'has(v)': False,\n",
       " 'count(w)': 0,\n",
       " 'has(w)': False,\n",
       " 'count(x)': 0,\n",
       " 'has(x)': False,\n",
       " 'count(y)': 1,\n",
       " 'has(y)': True,\n",
       " 'count(z)': 0,\n",
       " 'has(z)': False}"
      ]
     },
     "execution_count": 12,
     "metadata": {},
     "output_type": "execute_result"
    }
   ],
   "source": [
    "gender_features2('yee')"
   ]
  },
  {
   "cell_type": "code",
   "execution_count": 13,
   "metadata": {},
   "outputs": [
    {
     "name": "stdout",
     "output_type": "stream",
     "text": [
      "0.794\n"
     ]
    }
   ],
   "source": [
    ">>> featuresets = [(gender_features2(n), gender) for (n, gender) in labeled_names]\n",
    ">>> train_set, test_set = featuresets[500:], featuresets[:500]\n",
    ">>> classifier = nltk.NaiveBayesClassifier. train(train_set)\n",
    ">>> print (nltk.classify.accuracy(classifier, test_set))"
   ]
  },
  {
   "cell_type": "code",
   "execution_count": 17,
   "metadata": {},
   "outputs": [],
   "source": [
    ">>> train_names = labeled_names[1500:]\n",
    ">>> devtest_names = labeled_names[500:1500]\n",
    ">>> test_names = labeled_names[:500]"
   ]
  },
  {
   "cell_type": "code",
   "execution_count": 18,
   "metadata": {},
   "outputs": [
    {
     "name": "stdout",
     "output_type": "stream",
     "text": [
      "0.756\n"
     ]
    }
   ],
   "source": [
    ">>> train_set = [(gender_features(n), gender) for (n, gender) in train_names]\n",
    ">>> devtest_set = [(gender_features(n), gender) for (n, gender) in devtest_names]\n",
    ">>> test_set = [(gender_features(n), gender) for (n, gender) in test_names]\n",
    ">>> classifier = nltk.NaiveBayesClassifier.train(train_set) \n",
    ">>> print (nltk.classify.accuracy(classifier, devtest_set))"
   ]
  },
  {
   "cell_type": "code",
   "execution_count": 19,
   "metadata": {},
   "outputs": [],
   "source": [
    ">>> errors = []\n",
    ">>> for (name, tag) in devtest_names:\n",
    "...     guess = classifier.classify(gender_features(name))\n",
    "...     if guess != tag:\n",
    "...         errors.append( ( tag, guess, name) )"
   ]
  },
  {
   "cell_type": "code",
   "execution_count": 20,
   "metadata": {},
   "outputs": [
    {
     "name": "stdout",
     "output_type": "stream",
     "text": [
      "correct=female   guess=male     name=Ailyn                         \n",
      "correct=female   guess=male     name=Annabal                       \n",
      "correct=female   guess=male     name=Ardys                         \n",
      "correct=female   guess=male     name=Astrid                        \n",
      "correct=female   guess=male     name=Blair                         \n",
      "correct=female   guess=male     name=Caren                         \n",
      "correct=female   guess=male     name=Carin                         \n",
      "correct=female   guess=male     name=Catherin                      \n",
      "correct=female   guess=male     name=Cherilynn                     \n",
      "correct=female   guess=male     name=Chris                         \n",
      "correct=female   guess=male     name=Christan                      \n",
      "correct=female   guess=male     name=Christean                     \n",
      "correct=female   guess=male     name=Christen                      \n",
      "correct=female   guess=male     name=Christin                      \n",
      "correct=female   guess=male     name=Corabel                       \n",
      "correct=female   guess=male     name=Crystal                       \n",
      "correct=female   guess=male     name=Cybel                         \n",
      "correct=female   guess=male     name=Cybill                        \n",
      "correct=female   guess=male     name=Delores                       \n",
      "correct=female   guess=male     name=Demeter                       \n",
      "correct=female   guess=male     name=Donnajean                     \n",
      "correct=female   guess=male     name=Doris                         \n",
      "correct=female   guess=male     name=Dorris                        \n",
      "correct=female   guess=male     name=Dot                           \n",
      "correct=female   guess=male     name=Ellyn                         \n",
      "correct=female   guess=male     name=Eryn                          \n",
      "correct=female   guess=male     name=Estel                         \n",
      "correct=female   guess=male     name=Fanchon                       \n",
      "correct=female   guess=male     name=Fiann                         \n",
      "correct=female   guess=male     name=Flor                          \n",
      "correct=female   guess=male     name=Gabriel                       \n",
      "correct=female   guess=male     name=Garland                       \n",
      "correct=female   guess=male     name=Grier                         \n",
      "correct=female   guess=male     name=Gwendolyn                     \n",
      "correct=female   guess=male     name=Gwenn                         \n",
      "correct=female   guess=male     name=Harriet                       \n",
      "correct=female   guess=male     name=Harriett                      \n",
      "correct=female   guess=male     name=Helyn                         \n",
      "correct=female   guess=male     name=Ines                          \n",
      "correct=female   guess=male     name=Iris                          \n",
      "correct=female   guess=male     name=Jaclyn                        \n",
      "correct=female   guess=male     name=Jan                           \n",
      "correct=female   guess=male     name=Jen                           \n",
      "correct=female   guess=male     name=Jenifer                       \n",
      "correct=female   guess=male     name=Jennifer                      \n",
      "correct=female   guess=male     name=Jilleen                       \n",
      "correct=female   guess=male     name=Joell                         \n",
      "correct=female   guess=male     name=Jolyn                         \n",
      "correct=female   guess=male     name=Jolynn                        \n",
      "correct=female   guess=male     name=Jonis                         \n",
      "correct=female   guess=male     name=Jordain                       \n",
      "correct=female   guess=male     name=Joyann                        \n",
      "correct=female   guess=male     name=Kameko                        \n",
      "correct=female   guess=male     name=Karlyn                        \n",
      "correct=female   guess=male     name=Karylin                       \n",
      "correct=female   guess=male     name=Katheleen                     \n",
      "correct=female   guess=male     name=Kellen                        \n",
      "correct=female   guess=male     name=Kevyn                         \n",
      "correct=female   guess=male     name=Kirstin                       \n",
      "correct=female   guess=male     name=Kristien                      \n",
      "correct=female   guess=male     name=Kristyn                       \n",
      "correct=female   guess=male     name=Kym                           \n",
      "correct=female   guess=male     name=Laurel                        \n",
      "correct=female   guess=male     name=Leeann                        \n",
      "correct=female   guess=male     name=Lin                           \n",
      "correct=female   guess=male     name=Linnell                       \n",
      "correct=female   guess=male     name=Lulu                          \n",
      "correct=female   guess=male     name=Lyndell                       \n",
      "correct=female   guess=male     name=Lynnell                       \n",
      "correct=female   guess=male     name=Lynnet                        \n",
      "correct=female   guess=male     name=Mabel                         \n",
      "correct=female   guess=male     name=Madel                         \n",
      "correct=female   guess=male     name=Maren                         \n",
      "correct=female   guess=male     name=Marget                        \n",
      "correct=female   guess=male     name=Mariellen                     \n",
      "correct=female   guess=male     name=Marigold                      \n",
      "correct=female   guess=male     name=Marylin                       \n",
      "correct=female   guess=male     name=Meg                           \n",
      "correct=female   guess=male     name=Meridel                       \n",
      "correct=female   guess=male     name=Merilyn                       \n",
      "correct=female   guess=male     name=Min                           \n",
      "correct=female   guess=male     name=Miran                         \n",
      "correct=female   guess=male     name=Murial                        \n",
      "correct=female   guess=male     name=Muriel                        \n",
      "correct=female   guess=male     name=Olwen                         \n",
      "correct=female   guess=male     name=Pat                           \n",
      "correct=female   guess=male     name=Pearl                         \n",
      "correct=female   guess=male     name=Pegeen                        \n",
      "correct=female   guess=male     name=Pen                           \n",
      "correct=female   guess=male     name=Pet                           \n",
      "correct=female   guess=male     name=Quinn                         \n",
      "correct=female   guess=male     name=Raynell                       \n",
      "correct=female   guess=male     name=Regan                         \n",
      "correct=female   guess=male     name=Reiko                         \n",
      "correct=female   guess=male     name=Rhianon                       \n",
      "correct=female   guess=male     name=Robbin                        \n",
      "correct=female   guess=male     name=Robyn                         \n",
      "correct=female   guess=male     name=Ryann                         \n",
      "correct=female   guess=male     name=Sallyann                      \n",
      "correct=female   guess=male     name=Shannen                       \n",
      "correct=female   guess=male     name=Shannon                       \n",
      "correct=female   guess=male     name=Shaun                         \n",
      "correct=female   guess=male     name=Sherill                       \n",
      "correct=female   guess=male     name=Sigrid                        \n",
      "correct=female   guess=male     name=Siobhan                       \n",
      "correct=female   guess=male     name=Star                          \n",
      "correct=female   guess=male     name=Sybil                         \n",
      "correct=female   guess=male     name=Taryn                         \n",
      "correct=female   guess=male     name=Ted                           \n",
      "correct=female   guess=male     name=Teriann                       \n",
      "correct=female   guess=male     name=Tess                          \n",
      "correct=female   guess=male     name=Venus                         \n",
      "correct=female   guess=male     name=Vin                           \n",
      "correct=female   guess=male     name=Violet                        \n",
      "correct=female   guess=male     name=Wandis                        \n",
      "correct=male     guess=female   name=Abbie                         \n",
      "correct=male     guess=female   name=Abdullah                      \n",
      "correct=male     guess=female   name=Ambrose                       \n",
      "correct=male     guess=female   name=Andrea                        \n",
      "correct=male     guess=female   name=Andri                         \n",
      "correct=male     guess=female   name=Andy                          \n",
      "correct=male     guess=female   name=Angie                         \n",
      "correct=male     guess=female   name=Archie                        \n",
      "correct=male     guess=female   name=Artie                         \n",
      "correct=male     guess=female   name=Ave                           \n",
      "correct=male     guess=female   name=Bailey                        \n",
      "correct=male     guess=female   name=Barny                         \n",
      "correct=male     guess=female   name=Barry                         \n",
      "correct=male     guess=female   name=Bartie                        \n",
      "correct=male     guess=female   name=Bay                           \n",
      "correct=male     guess=female   name=Billy                         \n",
      "correct=male     guess=female   name=Bradly                        \n",
      "correct=male     guess=female   name=Brady                         \n",
      "correct=male     guess=female   name=Bruce                         \n",
      "correct=male     guess=female   name=Carmine                       \n",
      "correct=male     guess=female   name=Casey                         \n",
      "correct=male     guess=female   name=Chaddie                       \n",
      "correct=male     guess=female   name=Chase                         \n",
      "correct=male     guess=female   name=Christie                      \n",
      "correct=male     guess=female   name=Clare                         \n",
      "correct=male     guess=female   name=Constantine                   \n",
      "correct=male     guess=female   name=Danny                         \n",
      "correct=male     guess=female   name=Darth                         \n",
      "correct=male     guess=female   name=Denny                         \n",
      "correct=male     guess=female   name=Derby                         \n",
      "correct=male     guess=female   name=Dimitri                       \n",
      "correct=male     guess=female   name=Dwane                         \n",
      "correct=male     guess=female   name=Eddie                         \n",
      "correct=male     guess=female   name=Edie                          \n",
      "correct=male     guess=female   name=Enoch                         \n",
      "correct=male     guess=female   name=Erich                         \n",
      "correct=male     guess=female   name=Fletch                        \n",
      "correct=male     guess=female   name=Garvey                        \n",
      "correct=male     guess=female   name=Gary                          \n",
      "correct=male     guess=female   name=Georgy                        \n",
      "correct=male     guess=female   name=Gerry                         \n",
      "correct=male     guess=female   name=Godfry                        \n",
      "correct=male     guess=female   name=Graeme                        \n",
      "correct=male     guess=female   name=Grove                         \n",
      "correct=male     guess=female   name=Guthrey                       \n",
      "correct=male     guess=female   name=Hy                            \n",
      "correct=male     guess=female   name=Iggie                         \n",
      "correct=male     guess=female   name=Irvine                        \n",
      "correct=male     guess=female   name=Izzy                          \n",
      "correct=male     guess=female   name=Jamie                         \n",
      "correct=male     guess=female   name=Jefry                         \n",
      "correct=male     guess=female   name=Jephthah                      \n",
      "correct=male     guess=female   name=Jeramie                       \n",
      "correct=male     guess=female   name=Jessee                        \n",
      "correct=male     guess=female   name=Jessey                        \n",
      "correct=male     guess=female   name=Johny                         \n",
      "correct=male     guess=female   name=Jorge                         \n",
      "correct=male     guess=female   name=Joshua                        \n",
      "correct=male     guess=female   name=Joshuah                       \n",
      "correct=male     guess=female   name=Kalle                         \n",
      "correct=male     guess=female   name=Keene                         \n",
      "correct=male     guess=female   name=Kenny                         \n",
      "correct=male     guess=female   name=Klee                          \n",
      "correct=male     guess=female   name=Lenny                         \n",
      "correct=male     guess=female   name=Lindsey                       \n",
      "correct=male     guess=female   name=Lonny                         \n",
      "correct=male     guess=female   name=Lorrie                        \n",
      "correct=male     guess=female   name=Louie                         \n",
      "correct=male     guess=female   name=Luigi                         \n",
      "correct=male     guess=female   name=Maddie                        \n",
      "correct=male     guess=female   name=Marty                         \n",
      "correct=male     guess=female   name=Mattie                        \n",
      "correct=male     guess=female   name=Meredeth                      \n",
      "correct=male     guess=female   name=Mika                          \n",
      "correct=male     guess=female   name=Mischa                        \n",
      "correct=male     guess=female   name=Mortie                        \n",
      "correct=male     guess=female   name=Myke                          \n",
      "correct=male     guess=female   name=Neddie                        \n",
      "correct=male     guess=female   name=Nevile                        \n",
      "correct=male     guess=female   name=Neville                       \n",
      "correct=male     guess=female   name=Nickie                        \n",
      "correct=male     guess=female   name=Niki                          \n",
      "correct=male     guess=female   name=Normie                        \n",
      "correct=male     guess=female   name=Orbadiah                      \n",
      "correct=male     guess=female   name=Ozzy                          \n",
      "correct=male     guess=female   name=Peirce                        \n",
      "correct=male     guess=female   name=Petey                         \n",
      "correct=male     guess=female   name=Pierce                        \n",
      "correct=male     guess=female   name=Prince                        \n",
      "correct=male     guess=female   name=Quiggly                       \n",
      "correct=male     guess=female   name=Reese                         \n",
      "correct=male     guess=female   name=Rene                          \n",
      "correct=male     guess=female   name=Roderich                      \n",
      "correct=male     guess=female   name=Ruddy                         \n",
      "correct=male     guess=female   name=Rudy                          \n",
      "correct=male     guess=female   name=Sansone                       \n",
      "correct=male     guess=female   name=Seth                          \n",
      "correct=male     guess=female   name=Shane                         \n",
      "correct=male     guess=female   name=Shea                          \n",
      "correct=male     guess=female   name=Shelley                       \n",
      "correct=male     guess=female   name=Sky                           \n",
      "correct=male     guess=female   name=Solly                         \n",
      "correct=male     guess=female   name=Sonnie                        \n",
      "correct=male     guess=female   name=Spike                         \n",
      "correct=male     guess=female   name=Tallie                        \n",
      "correct=male     guess=female   name=Tammy                         \n",
      "correct=male     guess=female   name=Teddy                         \n",
      "correct=male     guess=female   name=Terrance                      \n",
      "correct=male     guess=female   name=Thaine                        \n",
      "correct=male     guess=female   name=Timothy                       \n",
      "correct=male     guess=female   name=Tobe                          \n",
      "correct=male     guess=female   name=Toby                          \n",
      "correct=male     guess=female   name=Tommie                        \n",
      "correct=male     guess=female   name=Tommy                         \n",
      "correct=male     guess=female   name=Tore                          \n",
      "correct=male     guess=female   name=Ty                            \n",
      "correct=male     guess=female   name=Vale                          \n",
      "correct=male     guess=female   name=Virge                         \n",
      "correct=male     guess=female   name=Wadsworth                     \n",
      "correct=male     guess=female   name=Wayne                         \n",
      "correct=male     guess=female   name=Westbrooke                    \n",
      "correct=male     guess=female   name=Witty                         \n",
      "correct=male     guess=female   name=Wolfie                        \n",
      "correct=male     guess=female   name=Woodie                        \n",
      "correct=male     guess=female   name=Wye                           \n",
      "correct=male     guess=female   name=Zacharia                      \n",
      "correct=male     guess=female   name=Zachariah                     \n",
      "correct=male     guess=female   name=Zeke                          \n",
      "correct=male     guess=female   name=Zollie                        \n"
     ]
    }
   ],
   "source": [
    ">>> for (tag, guess, name) in sorted(errors):\n",
    "...     print ( 'correct={:<8} guess={:<8s} name={:<30}' .format(tag, guess, name))\n"
   ]
  },
  {
   "cell_type": "code",
   "execution_count": 22,
   "metadata": {},
   "outputs": [],
   "source": [
    ">>> def  gender_features3 (word):\n",
    "...     return { 'suffix1' : word[-1:],\n",
    "...             'suffix2' : word[-2:]}"
   ]
  },
  {
   "cell_type": "code",
   "execution_count": 25,
   "metadata": {},
   "outputs": [
    {
     "name": "stdout",
     "output_type": "stream",
     "text": [
      "0.779\n"
     ]
    }
   ],
   "source": [
    ">>> train_set = [(gender_features3(n), gender) for (n, gender) in train_names]\n",
    ">>> devtest_set = [(gender_features3(n), gender) for (n, gender) in devtest_names]\n",
    ">>> classifier = nltk.NaiveBayesClassifier.train(train_set)\n",
    ">>> print (nltk.classify.accuracy(classifier, devtest_set))\n",
    "#0.782"
   ]
  }
 ],
 "metadata": {
  "kernelspec": {
   "display_name": "Python 3",
   "language": "python",
   "name": "python3"
  },
  "language_info": {
   "codemirror_mode": {
    "name": "ipython",
    "version": 3
   },
   "file_extension": ".py",
   "mimetype": "text/x-python",
   "name": "python",
   "nbconvert_exporter": "python",
   "pygments_lexer": "ipython3",
   "version": "3.6.6"
  }
 },
 "nbformat": 4,
 "nbformat_minor": 2
}
