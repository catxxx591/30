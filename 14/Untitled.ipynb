{
 "cells": [
  {
   "cell_type": "code",
   "execution_count": 1,
   "metadata": {},
   "outputs": [],
   "source": [
    ">>> import random\n",
    ">>> from nltk.corpus import brown\n",
    ">>> tagged_sents = list(brown.tagged_sents(categories= 'news' ))\n",
    ">>> random.shuffle(tagged_sents)\n",
    ">>> size = int(len( tagged_sents) * 0.1)\n",
    ">>> train_set, test_set = tagged_sents[size:], tagged_sents[:size]"
   ]
  },
  {
   "cell_type": "code",
   "execution_count": 2,
   "metadata": {},
   "outputs": [],
   "source": [
    ">>> file_ids = brown.fileids(categories= 'news' )\n",
    ">>> size = int(len(file_ids) * 0.1)\n",
    ">>> train_set = brown.tagged_sents(file_ids[size:])\n",
    ">>> test_set = brown .tagged_sents(file_ids[:size])"
   ]
  },
  {
   "cell_type": "code",
   "execution_count": 3,
   "metadata": {},
   "outputs": [],
   "source": [
    ">>> train_set = brown.tagged_sents(categories= 'news' )\n",
    ">>> test_set = brown.tagged_sents(categories= 'fiction' )"
   ]
  },
  {
   "cell_type": "code",
   "execution_count": null,
   "metadata": {},
   "outputs": [],
   "source": []
  }
 ],
 "metadata": {
  "kernelspec": {
   "display_name": "Python 3",
   "language": "python",
   "name": "python3"
  },
  "language_info": {
   "codemirror_mode": {
    "name": "ipython",
    "version": 3
   },
   "file_extension": ".py",
   "mimetype": "text/x-python",
   "name": "python",
   "nbconvert_exporter": "python",
   "pygments_lexer": "ipython3",
   "version": "3.6.6"
  }
 },
 "nbformat": 4,
 "nbformat_minor": 2
}
