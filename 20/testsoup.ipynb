{
 "cells": [
  {
   "cell_type": "code",
   "execution_count": 1,
   "metadata": {},
   "outputs": [],
   "source": [
    "from bs4 import BeautifulSoup\n",
    "import requests\n",
    "import re\n",
    "import nltk"
   ]
  },
  {
   "cell_type": "code",
   "execution_count": 12,
   "metadata": {},
   "outputs": [],
   "source": [
    "url = 'https://www.cna.com.tw/news/aspt/201811010241.aspx'\n",
    "res = requests.get(url)\n",
    "soup = BeautifulSoup(res.text,'html5lib')\n",
    "txt = \"\"\n",
    "sentance = \"\"\n",
    "try:\n",
    "    for s in soup.find_all('div',{'class':'paragraph'})[0].findAll('p'):\n",
    "        sentance=sentance + s.getText()\n",
    "except:IndexError\n",
    "\n",
    "#        if re.search(r'(\\）)+\\S[^(\\（(編輯|譯))]*',txt) == None:\n",
    "if re.search(r'\\S+',sentance) == None:\n",
    "    print(txt)\n",
    "else:\n",
    "#            txt = re.search(r'(\\）)+\\S[^(\\（(編輯|譯))]*',txt).group()[1:]\n",
    "    txt = txt+re.search(r'\\S+',sentance).group()[1:]\n"
   ]
  },
  {
   "cell_type": "code",
   "execution_count": 13,
   "metadata": {},
   "outputs": [
    {
     "name": "stdout",
     "output_type": "stream",
     "text": [
      "（中央社鳳凰城31日綜合外電報導）美國職籃NBA聖安東尼奧馬刺今天客場迎戰鳳凰城太陽，陣中球星德羅森和阿德雷奇分別貢獻25分與24分，幫助馬刺以120比90大勝對手取得3連勝。路透社報導，馬刺後衛德羅森（DeMar DeRozan）今天砍下全場最高25分，其中20分在上半場拿下。阿德雷奇（LaMarcus Aldridge）得到24分，其中16分於第3節奪下，馬刺在第4節一度領先多達32分。馬刺後衛貝里內利（Marco Belinelli）添得14分，前鋒蓋伊（Rudy Gay）投進12分。馬刺今天全場投籃命中率達到本季最高的55%，儘管三分球只有18投4中。太陽前鋒華倫（TJ Warren）拿下全隊最高21分，隊友布里吉斯（Mikal Bridges）得到16分，亞瑞薩（Trevor Ariza）添得14分，中鋒愛頓（Deandre Ayton）貢獻13分。太陽今天遭馬刺血洗後，已經悲情吞下6連敗。馬刺近來5場比賽已贏得4場，他們將於11月3日迎戰紐奧良鵜鶘，4日對上奧蘭多魔術。（譯者：陳彥鈞/核稿：陳政一）1071101\n",
      "中央社鳳凰城31日綜合外電報導）美國職籃NBA聖安東尼奧馬刺今天客場迎戰鳳凰城太陽，陣中球星德羅森和阿德雷奇分別貢獻25分與24分，幫助馬刺以120比90大勝對手取得3連勝。路透社報導，馬刺後衛德羅森（DeMar\n"
     ]
    }
   ],
   "source": [
    "print(sentance)\n",
    "print(txt)"
   ]
  }
 ],
 "metadata": {
  "kernelspec": {
   "display_name": "Python 3",
   "language": "python",
   "name": "python3"
  },
  "language_info": {
   "codemirror_mode": {
    "name": "ipython",
    "version": 3
   },
   "file_extension": ".py",
   "mimetype": "text/x-python",
   "name": "python",
   "nbconvert_exporter": "python",
   "pygments_lexer": "ipython3",
   "version": "3.6.6"
  }
 },
 "nbformat": 4,
 "nbformat_minor": 2
}
