{
 "cells": [
  {
   "cell_type": "code",
   "execution_count": 1,
   "metadata": {},
   "outputs": [],
   "source": [
    "from bs4 import BeautifulSoup\n",
    "import requests\n",
    "import re\n",
    "import nltk"
   ]
  },
  {
   "cell_type": "code",
   "execution_count": 2,
   "metadata": {},
   "outputs": [],
   "source": [
    "url = 'https://www.cna.com.tw/news/aspt/201811010241.aspx'\n",
    "res = requests.get(url)\n",
    "soup = BeautifulSoup(res.text,'html5lib')\n",
    "txt = \"\"\n",
    "sentance = \"\"\n",
    "try:\n",
    "    for s in soup.find_all('div',{'class':'paragraph'})[0].findAll('p'):\n",
    "        sentance=sentance + s.getText()\n",
    "except:IndexError\n",
    "\n",
    "#        if re.search(r'(\\）)+\\S[^(\\（(編輯|譯))]*',txt) == None:\n",
    "if re.search(r'\\S+',sentance) == None:\n",
    "    print(txt)\n",
    "else:\n",
    "#            txt = re.search(r'(\\）)+\\S[^(\\（(編輯|譯))]*',txt).group()[1:]\n",
    "    txt = txt+re.search(r'\\S+',sentance).group()[1:]\n"
   ]
  },
  {
   "cell_type": "code",
   "execution_count": 7,
   "metadata": {},
   "outputs": [
    {
     "data": {
      "text/plain": [
       "<function str.isalpha>"
      ]
     },
     "execution_count": 7,
     "metadata": {},
     "output_type": "execute_result"
    }
   ],
   "source": [
    "\n"
   ]
  }
 ],
 "metadata": {
  "kernelspec": {
   "display_name": "Python 3",
   "language": "python",
   "name": "python3"
  },
  "language_info": {
   "codemirror_mode": {
    "name": "ipython",
    "version": 3
   },
   "file_extension": ".py",
   "mimetype": "text/x-python",
   "name": "python",
   "nbconvert_exporter": "python",
   "pygments_lexer": "ipython3",
   "version": "3.6.6"
  }
 },
 "nbformat": 4,
 "nbformat_minor": 2
}
